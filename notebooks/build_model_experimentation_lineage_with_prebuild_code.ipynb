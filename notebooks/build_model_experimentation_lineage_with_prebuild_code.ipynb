{
  "cells": [
    {
      "cell_type": "code",
      "execution_count": null,
      "metadata": {
        "id": "ur8xi4C7S06n"
      },
      "outputs": [],
      "source": [
        "# Copyright 2021 Google LLC\n",
        "#\n",
        "# Licensed under the Apache License, Version 2.0 (the \"License\");\n",
        "# you may not use this file except in compliance with the License.\n",
        "# You may obtain a copy of the License at\n",
        "#\n",
        "#     https://www.apache.org/licenses/LICENSE-2.0\n",
        "#\n",
        "# Unless required by applicable law or agreed to in writing, software\n",
        "# distributed under the License is distributed on an \"AS IS\" BASIS,\n",
        "# WITHOUT WARRANTIES OR CONDITIONS OF ANY KIND, either express or implied.\n",
        "# See the License for the specific language governing permissions and\n",
        "# limitations under the License."
      ]
    },
    {
      "cell_type": "markdown",
      "metadata": {
        "id": "JAPoU8Sm5E6e"
      },
      "source": [
        "# Build Vertex AI Experiment lineage for custom training\n",
        "\n",
        "<table align=\"left\">\n",
        "\n",
        "  <td>\n",
        "    <a href=\"https://colab.research.google.com/github/GoogleCloudPlatform/vertex-ai-samples/blob/main/notebooks/official/experiments/build_model_experimentation_lineage_with_prebuild_code.ipynb\">\n",
        "      <img src=\"https://cloud.google.com/ml-engine/images/colab-logo-32px.png\" alt=\"Colab logo\"> Run in Colab\n",
        "    </a>\n",
        "  </td>\n",
        "  <td>\n",
        "    <a href=\"https://github.com/GoogleCloudPlatform/vertex-ai-samples/blob/main/notebooks/official/experiments/build_model_experimentation_lineage_with_prebuild_code.ipynb\">\n",
        "      <img src=\"https://cloud.google.com/ml-engine/images/github-logo-32px.png\" alt=\"GitHub logo\">\n",
        "      View on GitHub\n",
        "    </a>\n",
        "  </td>\n",
        "  <td>\n",
        "    <a href=\"https://console.cloud.google.com/vertex-ai/workbench/deploy-notebook?download_url=https://raw.githubusercontent.com/GoogleCloudPlatform/vertex-ai-samples/main/notebooks/official/experiments/build_model_experimentation_lineage_with_prebuild_code.ipynb\">\n",
        "      <img src=\"https://lh3.googleusercontent.com/UiNooY4LUgW_oTvpsNhPpQzsstV5W8F7rYgxgGBD85cWJoLmrOzhVs_ksK_vgx40SHs7jCqkTkCk=e14-rj-sc0xffffff-h130-w32\" alt=\"Vertex AI logo\">\n",
        "      Open in Vertex AI Workbench\n",
        "    </a>\n",
        "  </td>                                                                                               \n",
        "</table>"
      ]
    },
    {
      "cell_type": "markdown",
      "metadata": {
        "id": "d975c5729f18"
      },
      "source": [
        "## Overview\n",
        "\n",
        "As a Data Scientist, you want to be able to reuse code path (data preprocessing, feature engineering etc...) that others within your team have written to simplify and standardize all the complex data wrangling. "
      ]
    },
    {
      "cell_type": "markdown",
      "metadata": {
        "id": "3a0f8061b9c1"
      },
      "source": [
        "### Objective\n",
        "\n",
        "In this notebook, you learn how to integrate preprocessing code in a Vertex AI experiments. Also you build the experiment lineage lets you record, analyze, debug, and audit metadata and artifacts produced along your ML journey."
      ]
    },
    {
      "cell_type": "markdown",
      "metadata": {
        "id": "tvgnzT1CKxrO"
      },
      "source": [
        "### Dataset\n",
        "\n",
        "This dataset is the UCI News Aggregator Data Set which contains 422,937 news collected between March 10th, 2014 and August 10th, 2014. Below are example records from the dataset:\n",
        "\n",
        "\n",
        "|ID |TITLE                                                                |URL                                                                                                                        |PUBLISHER        |CATEGORY|STORY                        |HOSTNAME           |TIMESTAMP    |\n",
        "|---|---------------------------------------------------------------------|---------------------------------------------------------------------------------------------------------------------------|-----------------|--------|-----------------------------|-------------------|-------------|\n",
        "|1  |Fed official says weak data caused by weather, should not slow taper |http://www.latimes.com/business/money/la-fi-mo-federal-reserve-plosser-stimulus-economy-20140310,0,1312750.story\\?track=rss|Los Angeles Times|b       |ddUyU0VZz0BRneMioxUPQVP6sIxvM|www.latimes.com    |1394470370698|\n",
        "|2  |Fed's Charles Plosser sees high bar for change in pace of tapering   |http://www.livemint.com/Politics/H2EvwJSK2VE6OF7iK1g3PP/Feds-Charles-Plosser-sees-high-bar-for-change-in-pace-of-ta.html   |Livemint         |b       |ddUyU0VZz0BRneMioxUPQVP6sIxvM|www.livemint.com   |1394470371207|\n",
        "|3  |US open: Stocks fall after Fed official hints at accelerated tapering|http://www.ifamagazine.com/news/us-open-stocks-fall-after-fed-official-hints-at-accelerated-tapering-294436                |IFA Magazine     |b       |ddUyU0VZz0BRneMioxUPQVP6sIxvM|www.ifamagazine.com|1394470371550|\n",
        "|4  |Fed risks falling 'behind the curve', Charles Plosser says           |http://www.ifamagazine.com/news/fed-risks-falling-behind-the-curve-charles-plosser-says-294430                             |IFA Magazine     |b       |ddUyU0VZz0BRneMioxUPQVP6sIxvM|www.ifamagazine.com|1394470371793|\n",
        "|5  |Fed's Plosser: Nasty Weather Has Curbed Job Growth                   |http://www.moneynews.com/Economy/federal-reserve-charles-plosser-weather-job-growth/2014/03/10/id/557011                   |Moneynews        |b       |ddUyU0VZz0BRneMioxUPQVP6sIxvM|www.moneynews.com  |1394470372027|"
      ]
    },
    {
      "cell_type": "markdown",
      "metadata": {
        "id": "5e2eba58ad71"
      },
      "source": [
        "### Costs \n",
        "\n",
        "This tutorial uses billable components of Google Cloud:\n",
        "\n",
        "* Vertex AI\n",
        "* Cloud Storage\n",
        "\n",
        "Learn about [Vertex AI\n",
        "pricing](https://cloud.google.com/vertex-ai/pricing) and [Cloud Storage\n",
        "pricing](https://cloud.google.com/storage/pricing), and use the [Pricing\n",
        "Calculator](https://cloud.google.com/products/calculator/)\n",
        "to generate a cost estimate based on your projected usage."
      ]
    },
    {
      "cell_type": "markdown",
      "metadata": {
        "id": "ze4-nDLfK4pw"
      },
      "source": [
        "### Set up your local development environment\n",
        "\n",
        "**If you are using Colab or Vertex AI Workbench Notebooks**, your environment already meets\n",
        "all the requirements to run this notebook. You can skip this step."
      ]
    },
    {
      "cell_type": "markdown",
      "metadata": {
        "id": "gCuSR8GkAgzl"
      },
      "source": [
        "**Otherwise**, make sure your environment meets this notebook's requirements.\n",
        "You need the following:\n",
        "\n",
        "* The Google Cloud SDK\n",
        "* Git\n",
        "* Python 3\n",
        "* virtualenv\n",
        "* Jupyter notebook running in a virtual environment with Python 3\n",
        "\n",
        "The Google Cloud guide to [Setting up a Python development\n",
        "environment](https://cloud.google.com/python/setup) and the [Jupyter\n",
        "installation guide](https://jupyter.org/install) provide detailed instructions\n",
        "for meeting these requirements. The following steps provide a condensed set of\n",
        "instructions:\n",
        "\n",
        "1. [Install and initialize the Cloud SDK.](https://cloud.google.com/sdk/docs/)\n",
        "\n",
        "1. [Install Python 3.](https://cloud.google.com/python/setup#installing_python)\n",
        "\n",
        "1. [Install\n",
        "   virtualenv](https://cloud.google.com/python/setup#installing_and_using_virtualenv)\n",
        "   and create a virtual environment that uses Python 3. Activate the virtual environment.\n",
        "\n",
        "1. To install Jupyter, run `pip3 install jupyter` on the\n",
        "command-line in a terminal shell.\n",
        "\n",
        "1. To launch Jupyter, run `jupyter notebook` on the command-line in a terminal shell.\n",
        "\n",
        "1. Open this notebook in the Jupyter Notebook Dashboard."
      ]
    },
    {
      "cell_type": "markdown",
      "metadata": {
        "id": "i7EUnXsZhAGF"
      },
      "source": [
        "### Install additional packages\n",
        "\n",
        "Install additional package dependencies not installed in your notebook environment,TensorFlow or Vertex AI SDK. Use the latest major GA version of each package."
      ]
    },
    {
      "cell_type": "code",
      "execution_count": 1,
      "metadata": {
        "id": "2b4ef9b72d43",
        "outputId": "3ca8fce6-93e9-41a4-ca37-dcc4cadcf65c",
        "colab": {
          "base_uri": "https://localhost:8080/"
        }
      },
      "outputs": [
        {
          "output_type": "stream",
          "name": "stdout",
          "text": [
            "\u001b[K     |████████████████████████████████| 2.3 MB 6.9 MB/s \n",
            "\u001b[K     |████████████████████████████████| 47 kB 3.9 MB/s \n",
            "\u001b[K     |████████████████████████████████| 106 kB 73.0 MB/s \n",
            "\u001b[K     |████████████████████████████████| 233 kB 65.5 MB/s \n",
            "\u001b[K     |████████████████████████████████| 115 kB 64.5 MB/s \n",
            "\u001b[K     |████████████████████████████████| 408 kB 61.4 MB/s \n",
            "\u001b[K     |████████████████████████████████| 106 kB 56.2 MB/s \n",
            "\u001b[K     |████████████████████████████████| 107 kB 61.9 MB/s \n",
            "\u001b[K     |████████████████████████████████| 107 kB 62.4 MB/s \n",
            "\u001b[K     |████████████████████████████████| 107 kB 24.6 MB/s \n",
            "\u001b[K     |████████████████████████████████| 106 kB 61.4 MB/s \n",
            "\u001b[K     |████████████████████████████████| 106 kB 64.0 MB/s \n",
            "\u001b[K     |████████████████████████████████| 106 kB 66.9 MB/s \n",
            "\u001b[K     |████████████████████████████████| 106 kB 28.6 MB/s \n",
            "\u001b[K     |████████████████████████████████| 105 kB 46.9 MB/s \n",
            "\u001b[K     |████████████████████████████████| 105 kB 57.7 MB/s \n",
            "\u001b[K     |████████████████████████████████| 105 kB 32.8 MB/s \n",
            "\u001b[K     |████████████████████████████████| 105 kB 20.1 MB/s \n",
            "\u001b[K     |████████████████████████████████| 105 kB 33.5 MB/s \n",
            "\u001b[K     |████████████████████████████████| 104 kB 66.7 MB/s \n",
            "\u001b[K     |████████████████████████████████| 104 kB 61.2 MB/s \n",
            "\u001b[K     |████████████████████████████████| 103 kB 39.2 MB/s \n",
            "\u001b[K     |████████████████████████████████| 103 kB 63.3 MB/s \n",
            "\u001b[K     |████████████████████████████████| 103 kB 60.6 MB/s \n",
            "\u001b[K     |████████████████████████████████| 103 kB 63.0 MB/s \n",
            "\u001b[K     |████████████████████████████████| 97 kB 4.7 MB/s \n",
            "\u001b[K     |████████████████████████████████| 97 kB 7.2 MB/s \n",
            "\u001b[K     |████████████████████████████████| 97 kB 7.2 MB/s \n",
            "\u001b[K     |████████████████████████████████| 96 kB 4.9 MB/s \n",
            "\u001b[K     |████████████████████████████████| 96 kB 3.9 MB/s \n",
            "\u001b[K     |████████████████████████████████| 96 kB 5.6 MB/s \n",
            "\u001b[K     |████████████████████████████████| 92 kB 9.9 MB/s \n",
            "\u001b[K     |████████████████████████████████| 92 kB 3.5 MB/s \n",
            "\u001b[K     |████████████████████████████████| 233 kB 55.5 MB/s \n",
            "\u001b[K     |████████████████████████████████| 231 kB 30.6 MB/s \n",
            "\u001b[K     |████████████████████████████████| 231 kB 42.6 MB/s \n",
            "\u001b[K     |████████████████████████████████| 1.0 MB 60.9 MB/s \n",
            "\u001b[K     |████████████████████████████████| 230 kB 42.4 MB/s \n",
            "\u001b[K     |████████████████████████████████| 230 kB 37.4 MB/s \n",
            "\u001b[K     |████████████████████████████████| 402 kB 45.9 MB/s \n",
            "\u001b[K     |████████████████████████████████| 402 kB 65.2 MB/s \n",
            "\u001b[K     |████████████████████████████████| 286 kB 34.6 MB/s \n",
            "\u001b[K     |████████████████████████████████| 206 kB 79.6 MB/s \n",
            "\u001b[K     |████████████████████████████████| 77 kB 6.2 MB/s \n",
            "\u001b[31mERROR: pip's dependency resolver does not currently take into account all the packages that are installed. This behaviour is the source of the following dependency conflicts.\n",
            "tensorflow 2.8.2+zzzcolab20220929150707 requires protobuf<3.20,>=3.9.2, but you have protobuf 3.20.3 which is incompatible.\n",
            "pandas-gbq 0.13.3 requires google-cloud-bigquery[bqstorage,pandas]<2.0.0dev,>=1.11.1, but you have google-cloud-bigquery 2.34.4 which is incompatible.\n",
            "google-cloud-translate 1.5.0 requires google-api-core[grpc]<2.0.0dev,>=1.6.0, but you have google-api-core 2.10.2 which is incompatible.\n",
            "google-cloud-translate 1.5.0 requires google-cloud-core<2.0dev,>=1.0.0, but you have google-cloud-core 2.3.2 which is incompatible.\n",
            "google-cloud-language 1.2.0 requires google-api-core[grpc]<2.0.0dev,>=1.6.0, but you have google-api-core 2.10.2 which is incompatible.\n",
            "google-cloud-firestore 1.7.0 requires google-api-core[grpc]<2.0.0dev,>=1.14.0, but you have google-api-core 2.10.2 which is incompatible.\n",
            "google-cloud-firestore 1.7.0 requires google-cloud-core<2.0dev,>=1.0.3, but you have google-cloud-core 2.3.2 which is incompatible.\n",
            "google-cloud-datastore 1.8.0 requires google-api-core[grpc]<2.0.0dev,>=1.6.0, but you have google-api-core 2.10.2 which is incompatible.\n",
            "google-cloud-datastore 1.8.0 requires google-cloud-core<2.0dev,>=1.0.0, but you have google-cloud-core 2.3.2 which is incompatible.\n",
            "firebase-admin 4.4.0 requires google-api-core[grpc]<2.0.0dev,>=1.14.0; platform_python_implementation != \"PyPy\", but you have google-api-core 2.10.2 which is incompatible.\u001b[0m\n",
            "\u001b[?25h"
          ]
        }
      ],
      "source": [
        "import os\n",
        "\n",
        "# The Vertex AI Workbench Notebook product has specific requirements\n",
        "IS_WORKBENCH_NOTEBOOK = os.getenv(\"DL_ANACONDA_HOME\")\n",
        "IS_USER_MANAGED_WORKBENCH_NOTEBOOK = os.path.exists(\n",
        "    \"/opt/deeplearning/metadata/env_version\"\n",
        ")\n",
        "\n",
        "# Vertex AI Notebook requires dependencies to be installed with '--user'\n",
        "USER_FLAG = \"\"\n",
        "if IS_WORKBENCH_NOTEBOOK:\n",
        "    USER_FLAG = \"--user\"\n",
        "\n",
        "! pip3 install {USER_FLAG} --upgrade joblib fsspec gcsfs scikit-learn -q\n",
        "! pip install {USER_FLAG} --upgrade google-cloud-aiplatform -q"
      ]
    },
    {
      "cell_type": "markdown",
      "metadata": {
        "id": "hhq5zEbGg0XX"
      },
      "source": [
        "### Restart the kernel\n",
        "\n",
        "After you install the additional packages, you need to restart the notebook kernel so it can find the packages."
      ]
    },
    {
      "cell_type": "code",
      "execution_count": 2,
      "metadata": {
        "id": "EzrelQZ22IZj"
      },
      "outputs": [],
      "source": [
        "# Automatically restart kernel after installs\n",
        "import os\n",
        "\n",
        "if not os.getenv(\"IS_TESTING\"):\n",
        "    # Automatically restart kernel after installs\n",
        "    import IPython\n",
        "\n",
        "    app = IPython.Application.instance()\n",
        "    app.kernel.do_shutdown(True)"
      ]
    },
    {
      "cell_type": "markdown",
      "metadata": {
        "id": "BF1j6f9HApxa"
      },
      "source": [
        "## Before you begin\n",
        "\n",
        "### Set up your Google Cloud project\n",
        "\n",
        "**The following steps are required, regardless of your notebook environment.**\n",
        "\n",
        "1. [Select or create a Google Cloud project](https://console.cloud.google.com/cloud-resource-manager). When you first create an account, you get a $300 free credit towards your compute/storage costs.\n",
        "\n",
        "1. [Make sure that billing is enabled for your project](https://cloud.google.com/billing/docs/how-to/modify-project).\n",
        "\n",
        "1. [Enable APIs](https://console.cloud.google.com/flows/enableapi?apiid=cloudresourcemanager.googleapis.com,aiplatform.googleapis.com).\n",
        "\n",
        "1. If you are running this notebook locally, you need to install the [Cloud SDK](https://cloud.google.com/sdk).\n",
        "\n",
        "1. Enter your project ID in the cell below. Then run the cell to make sure the\n",
        "Cloud SDK uses the right project for all the commands in this notebook.\n",
        "\n",
        "**Note**: Jupyter runs lines prefixed with `!` as shell commands, and it interpolates Python variables prefixed with `$` into these commands."
      ]
    },
    {
      "cell_type": "markdown",
      "metadata": {
        "id": "WReHDGG5g0XY"
      },
      "source": [
        "#### Set your project ID\n",
        "\n",
        "**If you don't know your project ID**, you may be able to get your project ID using `gcloud`."
      ]
    },
    {
      "cell_type": "code",
      "source": [
        "PROJECT_ID = \"sv-ml-sandbox\"  # @param {type:\"string\"}"
      ],
      "metadata": {
        "id": "cqQWr8AhQeln"
      },
      "execution_count": 23,
      "outputs": []
    },
    {
      "cell_type": "code",
      "execution_count": 24,
      "metadata": {
        "id": "oM1iC_MfAts1"
      },
      "outputs": [],
      "source": [
        "import os\n",
        "\n",
        "if PROJECT_ID == \"\" or PROJECT_ID is None or PROJECT_ID == \"[your-project-id]\":\n",
        "    # Get your GCP project id from gcloud\n",
        "    shell_output = ! gcloud config list --format 'value(core.project)' 2>/dev/null\n",
        "    PROJECT_ID = shell_output[0]\n",
        "    print(\"Project ID:\", PROJECT_ID)"
      ]
    },
    {
      "cell_type": "code",
      "source": [
        "! gcloud config set project $PROJECT_ID"
      ],
      "metadata": {
        "id": "OExLk5QgQzd-",
        "outputId": "9df96181-ff10-4f9d-f960-190a41344d22",
        "colab": {
          "base_uri": "https://localhost:8080/"
        }
      },
      "execution_count": 25,
      "outputs": [
        {
          "output_type": "stream",
          "name": "stdout",
          "text": [
            "Updated property [core/project].\n"
          ]
        }
      ]
    },
    {
      "cell_type": "markdown",
      "metadata": {
        "id": "qJYoRfYng0XZ"
      },
      "source": [
        "Otherwise, set your project ID here."
      ]
    },
    {
      "cell_type": "code",
      "execution_count": 8,
      "metadata": {
        "id": "riG_qUokg0XZ"
      },
      "outputs": [],
      "source": [
        "if PROJECT_ID == \"\" or PROJECT_ID is None:\n",
        "    PROJECT_ID = \"sv-ml-sandbox\"  # @param {type:\"string\"}"
      ]
    },
    {
      "cell_type": "code",
      "execution_count": 9,
      "metadata": {
        "id": "wJyyYlKGYqaa",
        "outputId": "761acde4-f85d-4202-f082-54b914ab2cae",
        "colab": {
          "base_uri": "https://localhost:8080/"
        }
      },
      "outputs": [
        {
          "output_type": "stream",
          "name": "stdout",
          "text": [
            "Updated property [core/project].\n"
          ]
        }
      ],
      "source": [
        "!gcloud config set project $PROJECT_ID"
      ]
    },
    {
      "cell_type": "markdown",
      "metadata": {
        "id": "88dd74c4c84e"
      },
      "source": [
        "#### Region\n",
        "\n",
        "You can also change the `REGION` variable, which is used for operations\n",
        "throughout the rest of this notebook.  Below are regions supported for Vertex AI. We recommend that you choose the region closest to you.\n",
        "\n",
        "- Americas: `us-central1`\n",
        "- Europe: `europe-west4`\n",
        "- Asia Pacific: `asia-east1`\n",
        "\n",
        "You may not use a multi-regional bucket for training with Vertex AI. Not all regions provide support for all Vertex AI services.\n",
        "\n",
        "Learn more about [Vertex AI regions](https://cloud.google.com/vertex-ai/docs/general/locations)."
      ]
    },
    {
      "cell_type": "code",
      "execution_count": 26,
      "metadata": {
        "id": "5c615e53149f"
      },
      "outputs": [],
      "source": [
        "REGION = \"[your-region]\"  # @param {type: \"string\"}\n",
        "\n",
        "if REGION == \"[your-region]\":\n",
        "    REGION = \"us-central1\""
      ]
    },
    {
      "cell_type": "markdown",
      "metadata": {
        "id": "06571eb4063b"
      },
      "source": [
        "#### UUID\n",
        "\n",
        "If you are in a live tutorial session, you might be using a shared test account or project. To avoid name collisions between users on resources created, you create a uuid for each instance session, and append it onto the name of resources you create in this tutorial."
      ]
    },
    {
      "cell_type": "code",
      "execution_count": 11,
      "metadata": {
        "id": "697568e92bd6"
      },
      "outputs": [],
      "source": [
        "import random\n",
        "import string\n",
        "\n",
        "\n",
        "# Generate a uuid of a specifed length(default=8)\n",
        "def generate_uuid(length: int = 8) -> str:\n",
        "    return \"\".join(random.choices(string.ascii_lowercase + string.digits, k=length))\n",
        "\n",
        "\n",
        "UUID = generate_uuid()"
      ]
    },
    {
      "cell_type": "markdown",
      "metadata": {
        "id": "dr--iN2kAylZ"
      },
      "source": [
        "### Authenticate your Google Cloud account\n",
        "\n",
        "**If you are using Vertex AI Workbench Notebooks**, your environment is already\n",
        "authenticated."
      ]
    },
    {
      "cell_type": "markdown",
      "metadata": {
        "id": "sBCra4QMA2wR"
      },
      "source": [
        "**If you are using Colab**, run the cell below and follow the instructions\n",
        "when prompted to authenticate your account via oAuth.\n",
        "\n",
        "**Otherwise**, follow these steps:\n",
        "\n",
        "1. In the Cloud Console, go to the [**Create service account key**\n",
        "   page](https://console.cloud.google.com/apis/credentials/serviceaccountkey).\n",
        "\n",
        "2. Click **Create service account**.\n",
        "\n",
        "3. In the **Service account name** field, enter a name, and\n",
        "   click **Create**.\n",
        "\n",
        "4. In the **Grant this service account access to project** section, click the **Role** drop-down list. Type and select\n",
        "the following role into the filter box:\n",
        "\n",
        "    *   Storage Admin\n",
        "    *   Storage Object Admin\n",
        "    *   Service Account User\n",
        "    *   Vertex AI Administrator\n",
        "\n",
        "\n",
        "5. Click *Create*. A JSON file that contains your key downloads to your\n",
        "local environment.\n",
        "\n",
        "6. Enter the path to your service account key as the\n",
        "`GOOGLE_APPLICATION_CREDENTIALS` variable in the cell below and run the cell."
      ]
    },
    {
      "cell_type": "code",
      "execution_count": 31,
      "metadata": {
        "id": "PyQmSRbKA8r-"
      },
      "outputs": [],
      "source": [
        "# If you are running this notebook in Colab, run this cell and follow the\n",
        "# instructions to authenticate your GCP account. This provides access to your\n",
        "# Cloud Storage bucket and lets you submit training jobs and prediction\n",
        "# requests.\n",
        "\n",
        "import os\n",
        "import sys\n",
        "\n",
        "# If on Vertex AI Workbench, then don't execute this code\n",
        "\n",
        "IS_COLAB = False\n",
        "\n",
        "if not os.path.exists(\"/opt/deeplearning/metadata/env_version\") and not os.getenv(\n",
        "    \"DL_ANACONDA_HOME\"\n",
        "):\n",
        "    if \"google.colab\" in sys.modules:\n",
        "\n",
        "        IS_COLAB = True\n",
        "\n",
        "        from google.colab import auth as google_auth\n",
        "\n",
        "        google_auth.authenticate_user()\n",
        "\n",
        "    # If you are running this notebook locally, replace the string below with the\n",
        "    # path to your service account key and run this cell to authenticate your GCP\n",
        "    # account.\n",
        "\n",
        "    elif not os.getenv(\"IS_TESTING\"):\n",
        "\n",
        "        %env GOOGLE_APPLICATION_CREDENTIALS ''"
      ]
    },
    {
      "cell_type": "code",
      "source": [
        "SERVICE_ACCOUNT = \"412996116194-compute@developer.gserviceaccount.com\"  # @param {type:\"string\"}"
      ],
      "metadata": {
        "id": "oIaUCqNuOHgD"
      },
      "execution_count": 32,
      "outputs": []
    },
    {
      "cell_type": "code",
      "source": [
        "\n",
        "import sys\n",
        "\n",
        "IS_COLAB = \"google.colab\" in sys.modules\n",
        "\n",
        "if (\n",
        "    SERVICE_ACCOUNT == \"\"\n",
        "    or SERVICE_ACCOUNT is None\n",
        "    or SERVICE_ACCOUNT == \"[your-service-account]\"\n",
        "):\n",
        "    # Get your service account from gcloud\n",
        "    if not IS_COLAB:\n",
        "        shell_output = !gcloud auth list 2>/dev/null\n",
        "        SERVICE_ACCOUNT = shell_output[2].replace(\"*\", \"\").strip()\n",
        "\n",
        "    if IS_COLAB:\n",
        "        shell_output = ! gcloud projects describe  $PROJECT_ID\n",
        "        project_number = shell_output[-1].split(\":\")[1].strip().replace(\"'\", \"\")\n",
        "        SERVICE_ACCOUNT = f\"{project_number}-compute@developer.gserviceaccount.com\"\n",
        "\n",
        "    print(\"Service Account:\", SERVICE_ACCOUNT)"
      ],
      "metadata": {
        "id": "cmkZtDdcOL1K"
      },
      "execution_count": 33,
      "outputs": []
    },
    {
      "cell_type": "code",
      "source": [
        "! print($SERVICE_ACCOUNT)"
      ],
      "metadata": {
        "id": "eUP_XlKCPKCo",
        "outputId": "c2ab563f-32ad-4771-b46a-b3675d43de4c",
        "colab": {
          "base_uri": "https://localhost:8080/"
        }
      },
      "execution_count": 34,
      "outputs": [
        {
          "output_type": "stream",
          "name": "stdout",
          "text": [
            "/bin/bash: -c: line 0: syntax error near unexpected token `412996116194-compute@developer.gserviceaccount.com'\n",
            "/bin/bash: -c: line 0: ` print(412996116194-compute@developer.gserviceaccount.com)'\n"
          ]
        }
      ]
    },
    {
      "cell_type": "markdown",
      "metadata": {
        "id": "zgPO1eR3CYjk"
      },
      "source": [
        "### Create a Cloud Storage bucket\n",
        "\n",
        "**The following steps are required, regardless of your notebook environment.**\n",
        "\n",
        "When you initialize the Vertex SDK for Python, you specify a Cloud Storage staging bucket. The staging bucket is where all the data associated with your dataset and model resources are retained across sessions.\n",
        "\n",
        "Set the name of your Cloud Storage bucket below. Bucket names must be globally unique across all Google Cloud projects, including those outside of your organization."
      ]
    },
    {
      "cell_type": "code",
      "execution_count": 20,
      "metadata": {
        "id": "MzGDU7TWdts_"
      },
      "outputs": [],
      "source": [
        "BUCKET_NAME = \"sv-ml-sandbox-bucket\"  # @param {type:\"string\"}\n",
        "BUCKET_URI = f\"gs://{BUCKET_NAME}\""
      ]
    },
    {
      "cell_type": "code",
      "execution_count": 21,
      "metadata": {
        "id": "cf221059d072"
      },
      "outputs": [],
      "source": [
        "if BUCKET_NAME == \"\" or BUCKET_NAME is None or BUCKET_NAME == \"[your-bucket-name]\":\n",
        "    BUCKET_NAME = PROJECT_ID + \"aip-\" + UUID\n",
        "    BUCKET_URI = f\"gs://{BUCKET_NAME}\""
      ]
    },
    {
      "cell_type": "markdown",
      "metadata": {
        "id": "-EcIXiGsCePi"
      },
      "source": [
        "**Only if your bucket doesn't already exist**: Run the following cell to create your Cloud Storage bucket."
      ]
    },
    {
      "cell_type": "code",
      "execution_count": null,
      "metadata": {
        "id": "NIq7R4HZCfIc"
      },
      "outputs": [],
      "source": [
        "! gsutil mb -l $REGION -p $PROJECT_ID $BUCKET_URI"
      ]
    },
    {
      "cell_type": "markdown",
      "metadata": {
        "id": "ucvCsknMCims"
      },
      "source": [
        "Finally, validate access to your Cloud Storage bucket by examining its contents:"
      ]
    },
    {
      "cell_type": "code",
      "execution_count": 35,
      "metadata": {
        "id": "vhOb7YnwClBb",
        "colab": {
          "base_uri": "https://localhost:8080/"
        },
        "outputId": "8c5e23d4-235e-4497-f1d0-a5b4523ea636"
      },
      "outputs": [
        {
          "output_type": "stream",
          "name": "stdout",
          "text": [
            "      4136  2022-05-11T22:42:01Z  gs://sv-ml-sandbox-bucket/aiplatform-2022-05-11-22:42:00.923-aiplatform_custom_trainer_script-0.1.tar.gz#1652308921166372  metageneration=1\n",
            "      4134  2022-05-11T22:55:42Z  gs://sv-ml-sandbox-bucket/aiplatform-2022-05-11-22:55:42.460-aiplatform_custom_trainer_script-0.1.tar.gz#1652309742592080  metageneration=1\n",
            "      4135  2022-05-11T23:06:45Z  gs://sv-ml-sandbox-bucket/aiplatform-2022-05-11-23:06:45.707-aiplatform_custom_trainer_script-0.1.tar.gz#1652310405786633  metageneration=1\n",
            "       297  2022-05-11T23:06:08Z  gs://sv-ml-sandbox-bucket/mean_and_std.json#1652310368518297  metageneration=1\n",
            "                                 gs://sv-ml-sandbox-bucket/data/\n",
            "                                 gs://sv-ml-sandbox-bucket/iris/\n",
            "                                 gs://sv-ml-sandbox-bucket/model/\n",
            "                                 gs://sv-ml-sandbox-bucket/pipeline_root/\n",
            "                                 gs://sv-ml-sandbox-bucket/pipelines/\n",
            "                                 gs://sv-ml-sandbox-bucket/player_data/\n",
            "TOTAL: 4 objects, 12702 bytes (12.4 KiB)\n"
          ]
        }
      ],
      "source": [
        "! gsutil ls -al $BUCKET_URI"
      ]
    },
    {
      "cell_type": "code",
      "source": [],
      "metadata": {
        "id": "smHWIcLGQKx3"
      },
      "execution_count": null,
      "outputs": []
    },
    {
      "cell_type": "code",
      "execution_count": 30,
      "metadata": {
        "outputId": "158c2c6d-1f0b-475b-f57b-dc363d24d5b4",
        "colab": {
          "base_uri": "https://localhost:8080/"
        },
        "id": "EHesP_6pQLYc"
      },
      "outputs": [
        {
          "output_type": "stream",
          "name": "stdout",
          "text": [
            "ServiceException: 401 Anonymous caller does not have storage.buckets.list access to the Google Cloud project.\n"
          ]
        }
      ],
      "source": [
        "! gsutil ls"
      ]
    },
    {
      "cell_type": "code",
      "source": [
        "! gsutil iam ch serviceAccount:{SERVICE_ACCOUNT}:roles/storage.objectCreator $BUCKET_URI\n",
        "\n",
        "! gsutil iam ch serviceAccount:{SERVICE_ACCOUNT}:roles/storage.objectViewer $BUCKET_URI"
      ],
      "metadata": {
        "id": "K_Azr2pNOQFv",
        "outputId": "af862c09-266c-493a-92ca-cc79cf47d320",
        "colab": {
          "base_uri": "https://localhost:8080/"
        }
      },
      "execution_count": 36,
      "outputs": [
        {
          "output_type": "stream",
          "name": "stdout",
          "text": [
            "No changes made to gs://sv-ml-sandbox-bucket/\n",
            "No changes made to gs://sv-ml-sandbox-bucket/\n"
          ]
        }
      ]
    },
    {
      "cell_type": "markdown",
      "metadata": {
        "id": "0ljjTziu90rZ"
      },
      "source": [
        "### Set project folder"
      ]
    },
    {
      "cell_type": "code",
      "execution_count": 37,
      "metadata": {
        "id": "oigzvA4m937q"
      },
      "outputs": [],
      "source": [
        "DATA_PATH = \"data\"\n",
        "!mkdir -m 777 -p {DATA_PATH}"
      ]
    },
    {
      "cell_type": "markdown",
      "metadata": {
        "id": "UTjfRk2I9CGO"
      },
      "source": [
        "### Get the data"
      ]
    },
    {
      "cell_type": "code",
      "execution_count": 38,
      "metadata": {
        "id": "L4tPQ0lG9HoG",
        "outputId": "c494064e-721e-4301-bd28-8f584d967388",
        "colab": {
          "base_uri": "https://localhost:8080/"
        }
      },
      "outputs": [
        {
          "output_type": "stream",
          "name": "stdout",
          "text": [
            "--2022-10-12 12:57:52--  https://archive.ics.uci.edu/ml/machine-learning-databases/00359/NewsAggregatorDataset.zip\n",
            "Resolving archive.ics.uci.edu (archive.ics.uci.edu)... 128.195.10.252\n",
            "Connecting to archive.ics.uci.edu (archive.ics.uci.edu)|128.195.10.252|:443... connected.\n",
            "HTTP request sent, awaiting response... 200 OK\n",
            "Length: 29224203 (28M) [application/x-httpd-php]\n",
            "Saving to: ‘data/NewsAggregatorDataset.zip’\n",
            "\n",
            "NewsAggregatorDatas 100%[===================>]  27.87M  58.8MB/s    in 0.5s    \n",
            "\n",
            "2022-10-12 12:57:52 (58.8 MB/s) - ‘data/NewsAggregatorDataset.zip’ saved [29224203/29224203]\n",
            "\n",
            "Archive:  data/NewsAggregatorDataset.zip\n",
            "  inflating: data/temp/2pageSessions.csv  \n",
            "   creating: data/temp/__MACOSX/\n",
            "  inflating: data/temp/__MACOSX/._2pageSessions.csv  \n",
            "  inflating: data/temp/newsCorpora.csv  \n",
            "  inflating: data/temp/__MACOSX/._newsCorpora.csv  \n",
            "  inflating: data/temp/readme.txt    \n",
            "  inflating: data/temp/__MACOSX/._readme.txt  \n"
          ]
        }
      ],
      "source": [
        "DATASET_URL = \"https://archive.ics.uci.edu/ml/machine-learning-databases/00359/NewsAggregatorDataset.zip\"\n",
        "!wget --no-parent {DATASET_URL} --directory-prefix={DATA_PATH}\n",
        "!mkdir -m 777 -p {DATA_PATH}/temp {DATA_PATH}/raw\n",
        "!unzip {DATA_PATH}/*.zip -d {DATA_PATH}/temp\n",
        "!mv {DATA_PATH}/temp/*.csv {DATA_PATH}/raw && rm -Rf {DATA_PATH}/temp && rm -f {DATA_PATH}/*.zip"
      ]
    },
    {
      "cell_type": "code",
      "execution_count": 39,
      "metadata": {
        "id": "N-chqqLJAOpM",
        "outputId": "aff57b7f-c3dc-4236-ac6b-7c0ed360b1f3",
        "colab": {
          "base_uri": "https://localhost:8080/"
        }
      },
      "outputs": [
        {
          "output_type": "stream",
          "name": "stdout",
          "text": [
            "Copying file://data/raw/2pageSessions.csv [Content-Type=text/csv]...\n",
            "Copying file://data/raw/newsCorpora.csv [Content-Type=text/csv]...\n",
            "/ [2/2 files][100.5 MiB/100.5 MiB] 100% Done                                    \n",
            "Operation completed over 2 objects/100.5 MiB.                                    \n"
          ]
        }
      ],
      "source": [
        "!gsutil -m cp -R {DATA_PATH}/raw $BUCKET_URI/{DATA_PATH}/raw"
      ]
    },
    {
      "cell_type": "markdown",
      "metadata": {
        "id": "XoEqT2Y4DJmf"
      },
      "source": [
        "### Import libraries"
      ]
    },
    {
      "cell_type": "code",
      "execution_count": 40,
      "metadata": {
        "id": "pRUOFELefqf1"
      },
      "outputs": [],
      "source": [
        "# General\n",
        "import logging\n",
        "\n",
        "logger = logging.getLogger(\"logger\")\n",
        "logging.basicConfig(level=logging.INFO)\n",
        "\n",
        "import collections\n",
        "import tempfile\n",
        "import time\n",
        "from json import dumps\n",
        "\n",
        "collections.Iterable = collections.abc.Iterable\n",
        "\n",
        "# Vertex AI\n",
        "from google.cloud import aiplatform as vertex_ai"
      ]
    },
    {
      "cell_type": "markdown",
      "metadata": {
        "id": "oUiMepZvRiaa"
      },
      "source": [
        "### Define constants"
      ]
    },
    {
      "cell_type": "code",
      "execution_count": 41,
      "metadata": {
        "id": "9zDMnU3gRhSn"
      },
      "outputs": [],
      "source": [
        "# Base\n",
        "DATASET_NAME = \"news_corpora\"\n",
        "DATASET_URI = f\"{BUCKET_URI}/{DATA_PATH}/raw/newsCorpora.csv\"\n",
        "\n",
        "# Experiments\n",
        "TASK = \"classification\"\n",
        "MODEL_TYPE = \"naivebayes\"\n",
        "EXPERIMENT_NAME = f\"{TASK}-{MODEL_TYPE}-{UUID}\"\n",
        "EXPERIMENT_RUN_NAME = \"run-1\"\n",
        "\n",
        "# Preprocessing\n",
        "PREPROCESSED_DATASET_NAME = f\"preprocessed_{DATASET_NAME}\"\n",
        "PREPROCESS_EXECUTION_NAME = \"preprocess\"\n",
        "COLUMN_NAMES = [\n",
        "    \"id\",\n",
        "    \"title\",\n",
        "    \"url\",\n",
        "    \"publisher\",\n",
        "    \"category\",\n",
        "    \"story\",\n",
        "    \"hostname\",\n",
        "    \"timestamp\",\n",
        "]\n",
        "DELIMITER = \"\t\"\n",
        "INDEX_COL = 0\n",
        "PREPROCESSED_DATASET_URI = (\n",
        "    f\"{BUCKET_URI}/{DATA_PATH}/preprocess/{PREPROCESSED_DATASET_NAME}.csv\"\n",
        ")\n",
        "\n",
        "# Training\n",
        "TRAIN_EXECUTION_NAME = \"train\"\n",
        "TARGET = \"category\"\n",
        "FEATURES = \"title\"\n",
        "TEST_SIZE = 0.2\n",
        "SEED = 8\n",
        "TRAINED_MODEL_URI = f\"{BUCKET_URI}/deliverables/{UUID}\"\n",
        "MODEL_NAME = f\"{EXPERIMENT_NAME}-model\""
      ]
    },
    {
      "cell_type": "markdown",
      "metadata": {
        "id": "inR70nh38PeK"
      },
      "source": [
        "### Initialize Vertex AI SDK for Python\n",
        "\n",
        "Initialize the Vertex AI SDK for Python for your project and corresponding bucket."
      ]
    },
    {
      "cell_type": "code",
      "execution_count": 42,
      "metadata": {
        "id": "Nz0nasrh8T3c"
      },
      "outputs": [],
      "source": [
        "vertex_ai.init(\n",
        "    project=PROJECT_ID, experiment=EXPERIMENT_NAME, staging_bucket=BUCKET_URI\n",
        ")"
      ]
    },
    {
      "cell_type": "markdown",
      "metadata": {
        "id": "container:training,prediction,xgboost"
      },
      "source": [
        "### Set pre-built containers\n",
        "\n",
        "Set the pre-built Docker container image for training and prediction.\n",
        "\n",
        "\n",
        "For the latest list, see [Pre-built containers for training](https://cloud.google.com/ai-platform-unified/docs/training/pre-built-containers).\n",
        "\n",
        "\n",
        "For the latest list, see [Pre-built containers for prediction](https://cloud.google.com/ai-platform-unified/docs/predictions/pre-built-containers)."
      ]
    },
    {
      "cell_type": "code",
      "execution_count": 43,
      "metadata": {
        "id": "XujRA5ueox9U"
      },
      "outputs": [],
      "source": [
        "SERVE_IMAGE = vertex_ai.helpers.get_prebuilt_prediction_container_uri(\n",
        "    framework=\"sklearn\", framework_version=\"1.0\", accelerator=\"cpu\"\n",
        ")"
      ]
    },
    {
      "cell_type": "markdown",
      "metadata": {
        "id": "9JSL9CzsZZZT"
      },
      "source": [
        "### Initialize Experiment run"
      ]
    },
    {
      "cell_type": "code",
      "execution_count": 44,
      "metadata": {
        "id": "AmHX6qy6ZVoq",
        "outputId": "f8de810c-0adb-4e99-8094-2274e275ac76",
        "colab": {
          "base_uri": "https://localhost:8080/"
        }
      },
      "outputs": [
        {
          "output_type": "stream",
          "name": "stdout",
          "text": [
            "Associating projects/412996116194/locations/us-central1/metadataStores/default/contexts/classification-naivebayes-ah8czu22-run-1 to Experiment: classification-naivebayes-ah8czu22\n"
          ]
        },
        {
          "output_type": "stream",
          "name": "stderr",
          "text": [
            "INFO:google.cloud.aiplatform.metadata.experiment_resources:Associating projects/412996116194/locations/us-central1/metadataStores/default/contexts/classification-naivebayes-ah8czu22-run-1 to Experiment: classification-naivebayes-ah8czu22\n"
          ]
        }
      ],
      "source": [
        "run = vertex_ai.start_run(EXPERIMENT_RUN_NAME)"
      ]
    },
    {
      "cell_type": "markdown",
      "metadata": {
        "id": "tysB_Zy68KIe"
      },
      "source": [
        "## Model experimentation with pre-built data pre-processing code"
      ]
    },
    {
      "cell_type": "markdown",
      "metadata": {
        "id": "vEyXGFqq8cR_"
      },
      "source": [
        "### Data preprocessing\n",
        "\n",
        "In this step, you simulate some preprocessing on raw data to create the training dataset.\n",
        "\n",
        "Indeed it would happen that you have some data preprocessing that others within your team may have written. For that reason, you need a way to integrate the preprocessing code in your experiment runs to standardize and reuse all the complex data wrangling that you are dealing with. \n",
        "\n",
        "Using Vertex AI Experiments, you can track that code as part of the run execution by adding one `with` statement in your experiment context. "
      ]
    },
    {
      "cell_type": "markdown",
      "metadata": {
        "id": "43K9jkygpv9w"
      },
      "source": [
        "#### Create a Dataset Metadata Artifact\n",
        "\n",
        "First you create the Dataset artifact to track the dataset resource in the Vertex ML Metadata and create the experiment lineage."
      ]
    },
    {
      "cell_type": "code",
      "execution_count": 45,
      "metadata": {
        "id": "configured-fetish"
      },
      "outputs": [],
      "source": [
        "raw_dataset_artifact = vertex_ai.Artifact.create(\n",
        "    schema_title=\"system.Dataset\", display_name=DATASET_NAME, uri=DATASET_URI\n",
        ")"
      ]
    },
    {
      "cell_type": "markdown",
      "metadata": {
        "id": "ZrtoR-V0GVzy"
      },
      "source": [
        "#### Create a preprocess module\n",
        "\n",
        "Next, you build a simple preprocessing module to convert the text case and remove the punctuation."
      ]
    },
    {
      "cell_type": "code",
      "execution_count": 46,
      "metadata": {
        "id": "DjCc1Us_Gb5Q"
      },
      "outputs": [],
      "source": [
        "\"\"\"\n",
        "Preprocess module\n",
        "\"\"\"\n",
        "\n",
        "\n",
        "import pandas as pd\n",
        "\n",
        "\n",
        "def preprocess(df: pd.DataFrame, text_col: str) -> pd.DataFrame:\n",
        "    \"\"\"\n",
        "    Preprocess text\n",
        "    Args:\n",
        "        df: The DataFrame to preprocesss\n",
        "        text_col: The text column name\n",
        "    Returns:\n",
        "        preprocessed_df: The datafrane with text in lowercase and without punctuation\n",
        "    \"\"\"\n",
        "    preprocessed_df = df.copy()\n",
        "    preprocessed_df[text_col] = preprocessed_df[text_col].apply(lambda x: x.lower())\n",
        "    preprocessed_df[text_col] = preprocessed_df[text_col].apply(\n",
        "        lambda x: x.translate(str.maketrans(\"\", \"\", string.punctuation))\n",
        "    )\n",
        "    return preprocessed_df"
      ]
    },
    {
      "cell_type": "markdown",
      "metadata": {
        "id": "vSVFPWU9DFw_"
      },
      "source": [
        "#### Add the `preprocessing` Execution\n",
        "\n",
        "Vertex AI Experiments supports tracking both executions and artifacts. Executions are steps in an ML workflow that can include but are not limited to data preprocessing, training, and model evaluation. Executions can consume artifacts such as datasets and produce artifacts such as models.\n",
        "\n",
        "You add the preprocessing step to track its execution in the lineage associated to Vertex AI Experiment. \n",
        "For Vertex AI, the parameters are passed inside the message field which we see in the logs. These structures of the logs are predefined."
      ]
    },
    {
      "cell_type": "code",
      "execution_count": 47,
      "metadata": {
        "id": "NI5e4a44EH4S"
      },
      "outputs": [],
      "source": [
        "with vertex_ai.start_execution(\n",
        "    schema_title=\"system.ContainerExecution\", display_name=PREPROCESS_EXECUTION_NAME\n",
        ") as exc:\n",
        "    logging.info(f\"Start {PREPROCESS_EXECUTION_NAME} execution.\")\n",
        "    exc.assign_input_artifacts([raw_dataset_artifact])\n",
        "\n",
        "    # Log preprocessing params --------------------------------------------------\n",
        "    logging.info(\"Log preprocessing params.\")\n",
        "    vertex_ai.log_params(\n",
        "        {\n",
        "            \"delimiter\": DELIMITER,\n",
        "            \"features\": dumps(COLUMN_NAMES),\n",
        "            \"index_col\": INDEX_COL,\n",
        "        }\n",
        "    )\n",
        "\n",
        "    # Preprocessing ------------------------------------------------------------\n",
        "    logging.info(\"Preprocessing.\")\n",
        "    raw_df = pd.read_csv(\n",
        "        raw_dataset_artifact.uri,\n",
        "        delimiter=DELIMITER,\n",
        "        names=COLUMN_NAMES,\n",
        "        index_col=INDEX_COL,\n",
        "    )\n",
        "    preprocessed_df = preprocess(raw_df, \"title\")\n",
        "    preprocessed_df.to_csv(PREPROCESSED_DATASET_URI, sep=\",\")\n",
        "\n",
        "    # Log preprocessing metrics and store dataset artifact ---------------------\n",
        "    logging.info(f\"Log preprocessing metrics and {PREPROCESSED_DATASET_NAME} dataset.\")\n",
        "    vertex_ai.log_metrics(\n",
        "        {\n",
        "            \"n_records\": preprocessed_df.shape[0],\n",
        "            \"n_columns\": preprocessed_df.shape[1],\n",
        "        },\n",
        "    )\n",
        "\n",
        "    preprocessed_dataset_metadata = vertex_ai.Artifact.create(\n",
        "        schema_title=\"system.Dataset\",\n",
        "        display_name=PREPROCESSED_DATASET_NAME,\n",
        "        uri=PREPROCESSED_DATASET_URI,\n",
        "    )\n",
        "    exc.assign_output_artifacts([preprocessed_dataset_metadata])"
      ]
    },
    {
      "cell_type": "markdown",
      "metadata": {
        "id": "blqKeaw9cigK"
      },
      "source": [
        "### Model Training\n",
        "\n",
        "In this step, you train a multinomial Naive Bayes pipeline."
      ]
    },
    {
      "cell_type": "markdown",
      "metadata": {
        "id": "9DIhphAwcpl2"
      },
      "source": [
        "#### Create model training module\n",
        "\n",
        "Below the training module.\n",
        "\n",
        "**get_training_split :** It takes parameters like  x(The data to be split), y(The labels to be split), test_size(The proportion of the data to be reserved for testing) and random_state(The seed used by the random number generator).\n",
        "This function return training data, testing data , The training labels and The testing labels.\n",
        "\n",
        "**get_pipeline :** It return's the model.\n",
        "\n",
        "**train_pipeline :** It train the model by using model, training data, training lables and return's the trained model.\n",
        "\n",
        "**evaluate_model :** It evaluate the model and return the accuracy of the model.\n"
      ]
    },
    {
      "cell_type": "code",
      "execution_count": 48,
      "metadata": {
        "id": "XAV2Ew1Gc-dk"
      },
      "outputs": [],
      "source": [
        "\"\"\"\n",
        "Train module\n",
        "\"\"\"\n",
        "\n",
        "import joblib\n",
        "import pandas as pd\n",
        "from sklearn.feature_extraction.text import CountVectorizer, TfidfTransformer\n",
        "from sklearn.metrics import accuracy_score, precision_score, recall_score\n",
        "from sklearn.model_selection import train_test_split\n",
        "from sklearn.naive_bayes import MultinomialNB\n",
        "from sklearn.pipeline import Pipeline\n",
        "\n",
        "\n",
        "def get_training_split(\n",
        "    x: pd.DataFrame, y: pd.Series, test_size: float, random_state: int\n",
        ") -> (pd.DataFrame, pd.Series, pd.DataFrame, pd.Series):\n",
        "    \"\"\"\n",
        "    Splits data into training and testing sets\n",
        "    Args:\n",
        "        x: The data to be split\n",
        "        y: The labels to be split\n",
        "        test_size: The proportion of the data to be reserved for testing\n",
        "        random_state: The seed used by the random number generator\n",
        "    Returns:\n",
        "        x_train: The training data\n",
        "        x_test: The testing data\n",
        "        y_train: The training labels\n",
        "        y_test: The testing labels\n",
        "    \"\"\"\n",
        "\n",
        "    x_train, x_val, y_train, y_val = train_test_split(\n",
        "        x, y, test_size=test_size, random_state=random_state\n",
        "    )\n",
        "    return x_train, x_val, y_train, y_val\n",
        "\n",
        "\n",
        "def get_pipeline():\n",
        "    \"\"\"\n",
        "    Get the model\n",
        "    Args:\n",
        "        None\n",
        "    Returns:\n",
        "        model: The model\n",
        "    \"\"\"\n",
        "    model = Pipeline(\n",
        "        [\n",
        "            (\"vect\", CountVectorizer()),\n",
        "            (\"tfidf\", TfidfTransformer()),\n",
        "            (\"clf\", MultinomialNB()),\n",
        "        ]\n",
        "    )\n",
        "    return model\n",
        "\n",
        "\n",
        "def train_pipeline(model: Pipeline, X_train: pd.Series, y_train: pd.Series) -> Pipeline:\n",
        "    \"\"\"\n",
        "    Train the model\n",
        "    Args:\n",
        "        model: The model to train\n",
        "        X_train: The training data\n",
        "        y_train: The training labels\n",
        "    Returns:\n",
        "        model: The trained model\n",
        "    \"\"\"\n",
        "    model.fit(X_train, y_train)\n",
        "    return model\n",
        "\n",
        "\n",
        "def evaluate_model(model: Pipeline, X_test: pd.Series, y_test: pd.Series) -> float:\n",
        "    \"\"\"\n",
        "    Evaluate the model\n",
        "    Args:\n",
        "        model: The model to evaluate\n",
        "        X_test: The testing data\n",
        "        y_test: The testing labels\n",
        "    Returns:\n",
        "        score: The accuracy of the model\n",
        "    \"\"\"\n",
        "    # Evaluate model\n",
        "    y_pred = model.predict(X_test)\n",
        "\n",
        "    # Store evaluation metrics\n",
        "    # Store evaluation metrics\n",
        "    metrics = {\n",
        "        \"accuracy\": round(accuracy_score(y_test, y_pred), 5),\n",
        "        \"precision\": round(precision_score(y_test, y_pred, average=\"weighted\"), 5),\n",
        "        \"recall\": round(recall_score(y_test, y_pred, average=\"weighted\"), 5),\n",
        "    }\n",
        "    return metrics\n",
        "\n",
        "\n",
        "def save_model(model: Pipeline, save_path: str) -> int:\n",
        "    try:\n",
        "        with tempfile.NamedTemporaryFile() as tmp:\n",
        "            joblib.dump(trained_pipeline, filename=tmp.name)\n",
        "            ! gsutil cp {tmp.name} {save_path}/model.joblib\n",
        "    except RuntimeError as error:\n",
        "        print(error)\n",
        "    return 1"
      ]
    },
    {
      "cell_type": "markdown",
      "metadata": {
        "id": "AHqNQ66EntqP"
      },
      "source": [
        "#### Add the `train` Execution\n",
        "\n",
        "Next, you add the training task to the experiment execution to update the experiment lineage."
      ]
    },
    {
      "cell_type": "code",
      "execution_count": 49,
      "metadata": {
        "id": "5-kIK4obcbSr",
        "outputId": "3aedf29a-5f7a-4d21-e7b1-247484a84375",
        "colab": {
          "base_uri": "https://localhost:8080/"
        }
      },
      "outputs": [
        {
          "output_type": "stream",
          "name": "stdout",
          "text": [
            "prediction sample: ['m' 'e' 'e' 't' 'e' 'b' 'b' 'e' 'm' 't']\n",
            "Copying file:///tmp/tmpxbozysp3 [Content-Type=application/octet-stream]...\n",
            "-\n",
            "Operation completed over 1 objects/6.3 MiB.                                      \n",
            "Creating Model\n"
          ]
        },
        {
          "output_type": "stream",
          "name": "stderr",
          "text": [
            "INFO:google.cloud.aiplatform.models:Creating Model\n"
          ]
        },
        {
          "output_type": "stream",
          "name": "stdout",
          "text": [
            "Create Model backing LRO: projects/412996116194/locations/us-central1/models/3154169006601011200/operations/6071307839106711552\n"
          ]
        },
        {
          "output_type": "stream",
          "name": "stderr",
          "text": [
            "INFO:google.cloud.aiplatform.models:Create Model backing LRO: projects/412996116194/locations/us-central1/models/3154169006601011200/operations/6071307839106711552\n"
          ]
        },
        {
          "output_type": "stream",
          "name": "stdout",
          "text": [
            "Model created. Resource name: projects/412996116194/locations/us-central1/models/3154169006601011200@1\n"
          ]
        },
        {
          "output_type": "stream",
          "name": "stderr",
          "text": [
            "INFO:google.cloud.aiplatform.models:Model created. Resource name: projects/412996116194/locations/us-central1/models/3154169006601011200@1\n"
          ]
        },
        {
          "output_type": "stream",
          "name": "stdout",
          "text": [
            "To use this Model in another session:\n"
          ]
        },
        {
          "output_type": "stream",
          "name": "stderr",
          "text": [
            "INFO:google.cloud.aiplatform.models:To use this Model in another session:\n"
          ]
        },
        {
          "output_type": "stream",
          "name": "stdout",
          "text": [
            "model = aiplatform.Model('projects/412996116194/locations/us-central1/models/3154169006601011200@1')\n"
          ]
        },
        {
          "output_type": "stream",
          "name": "stderr",
          "text": [
            "INFO:google.cloud.aiplatform.models:model = aiplatform.Model('projects/412996116194/locations/us-central1/models/3154169006601011200@1')\n"
          ]
        }
      ],
      "source": [
        "with vertex_ai.start_execution(\n",
        "    schema_title=\"system.ContainerExecution\", display_name=TRAIN_EXECUTION_NAME\n",
        ") as exc:\n",
        "\n",
        "    exc.assign_input_artifacts([preprocessed_dataset_metadata])\n",
        "\n",
        "    # Get training and testing data\n",
        "    logging.info(\"Get training and testing data.\")\n",
        "    x_train, x_val, y_train, y_val = get_training_split(\n",
        "        preprocessed_df[FEATURES],\n",
        "        preprocessed_df[TARGET],\n",
        "        test_size=TEST_SIZE,\n",
        "        random_state=SEED,\n",
        "    )\n",
        "    # Get model pipeline\n",
        "    logging.info(\"Get model pipeline.\")\n",
        "    pipeline = get_pipeline()\n",
        "\n",
        "    # Log training param -------------------------------------------------------\n",
        "\n",
        "    # Log data parameters\n",
        "    logging.info(\"Log data parameters.\")\n",
        "    vertex_ai.log_params(\n",
        "        {\n",
        "            \"target\": TARGET,\n",
        "            \"features\": FEATURES,\n",
        "            \"test_size\": TEST_SIZE,\n",
        "            \"random_state\": SEED,\n",
        "        }\n",
        "    )\n",
        "\n",
        "    # Log pipeline parameters\n",
        "    logging.info(\"Log pipeline parameters.\")\n",
        "    vertex_ai.log_params(\n",
        "        {\n",
        "            \"pipeline_steps\": dumps(\n",
        "                {step[0]: str(step[1].__class__.__name__) for step in pipeline.steps}\n",
        "            )\n",
        "        }\n",
        "    )\n",
        "\n",
        "    # Training -----------------------------------------------------------------\n",
        "\n",
        "    # Train model pipeline\n",
        "    logging.info(\"Train model pipeline.\")\n",
        "    train_start = time.time()\n",
        "    trained_pipeline = train_pipeline(pipeline, x_train, y_train)\n",
        "    train_end = time.time()\n",
        "\n",
        "    # Evaluate model\n",
        "    logging.info(\"Evaluate model.\")\n",
        "    model_metrics = evaluate_model(trained_pipeline, x_val, y_val)\n",
        "\n",
        "    # Log training metrics and store model artifact ----------------------------\n",
        "\n",
        "    # Log training metrics\n",
        "    logging.info(\"Log training metrics.\")\n",
        "    vertex_ai.log_metrics(model_metrics)\n",
        "\n",
        "    # Generate first ten predictions\n",
        "    logging.info(\"Generate prediction sample.\")\n",
        "    prediction_sample = trained_pipeline.predict(x_val)[:10]\n",
        "    print(\"prediction sample:\", prediction_sample)\n",
        "\n",
        "    # Upload Model on Vertex AI\n",
        "    logging.info(\"Upload Model on Vertex AI.\")\n",
        "    loaded = save_model(trained_pipeline, TRAINED_MODEL_URI)\n",
        "    if loaded:\n",
        "        model = vertex_ai.Model.upload(\n",
        "            serving_container_image_uri=SERVE_IMAGE,\n",
        "            artifact_uri=TRAINED_MODEL_URI,\n",
        "            display_name=MODEL_NAME,\n",
        "        )\n",
        "\n",
        "    exc.assign_output_artifacts([model])"
      ]
    },
    {
      "cell_type": "markdown",
      "metadata": {
        "id": "e595c893de8d"
      },
      "source": [
        "### Stop Experiment run"
      ]
    },
    {
      "cell_type": "code",
      "execution_count": 50,
      "metadata": {
        "id": "ee96d6d8c0fa"
      },
      "outputs": [],
      "source": [
        "run.end_run()"
      ]
    },
    {
      "cell_type": "markdown",
      "metadata": {
        "id": "0KQbDqiRBV9x"
      },
      "source": [
        "### Visualize Experiment Lineage\n",
        "\n",
        "Below you get the link to Vertex AI Metadata UI in the console that show the experiment lineage."
      ]
    },
    {
      "cell_type": "code",
      "execution_count": 51,
      "metadata": {
        "id": "4L_XvSllBeqC",
        "outputId": "f15c94c0-a7bf-4503-d2ea-0c57daef6d81",
        "colab": {
          "base_uri": "https://localhost:8080/"
        }
      },
      "outputs": [
        {
          "output_type": "stream",
          "name": "stdout",
          "text": [
            "Open the following link: https://console.cloud.google.com/vertex-ai/locations/us-central1/metadata-stores/default/artifacts/f56097dd-a79a-4c8f-800f-9db3b7602a3e?project=sv-ml-sandbox\n"
          ]
        }
      ],
      "source": [
        "print(\"Open the following link:\", exc.get_output_artifacts()[0].lineage_console_uri)"
      ]
    },
    {
      "cell_type": "markdown",
      "metadata": {
        "id": "TpV-iwP9qw9c"
      },
      "source": [
        "## Cleaning up\n",
        "\n",
        "To clean up all Google Cloud resources used in this project, you can [delete the Google Cloud\n",
        "project](https://cloud.google.com/resource-manager/docs/creating-managing-projects#shutting_down_projects) you used for the tutorial.\n",
        "\n",
        "Otherwise, you can delete the individual resources you created in this tutorial."
      ]
    },
    {
      "cell_type": "code",
      "execution_count": null,
      "metadata": {
        "id": "uGvJieN5BjPG"
      },
      "outputs": [],
      "source": [
        "# Delete experiment\n",
        "exp = vertex_ai.Experiment(EXPERIMENT_NAME)\n",
        "exp.delete()\n",
        "\n",
        "# Delete model\n",
        "model_list = vertex_ai.Model.list(filter=f'display_name=\"{MODEL_NAME}\"')\n",
        "for model in model_list:\n",
        "    model.delete()\n",
        "\n",
        "# Delete dataset\n",
        "for dataset_name in [DATASET_NAME, PREPROCESSED_DATASET_NAME]:\n",
        "    dataset_list = vertex_ai.TabularDataset.list(\n",
        "        filter=f'display_name=\"{dataset_name}\"'\n",
        "    )\n",
        "    for dataset in dataset_list:\n",
        "        dataset.delete()\n",
        "\n",
        "# Delete Cloud Storage objects that were created\n",
        "delete_bucket = True\n",
        "\n",
        "if delete_bucket or os.getenv(\"IS_TESTING\"):\n",
        "    ! gsutil -m rm -r $BUCKET_URI\n",
        "\n",
        "!rm -Rf {DATA_PATH}"
      ]
    },
    {
      "cell_type": "code",
      "execution_count": null,
      "metadata": {
        "id": "3f00c455b930"
      },
      "outputs": [],
      "source": [
        "!rm -Rf {DATA_PATH}"
      ]
    }
  ],
  "metadata": {
    "colab": {
      "collapsed_sections": [],
      "name": "build_model_experimentation_lineage_with_prebuild_code.ipynb",
      "provenance": []
    },
    "kernelspec": {
      "display_name": "Python 3",
      "name": "python3"
    }
  },
  "nbformat": 4,
  "nbformat_minor": 0
}